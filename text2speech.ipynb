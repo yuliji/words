{
 "cells": [
  {
   "cell_type": "code",
   "execution_count": 4,
   "metadata": {},
   "outputs": [],
   "source": [
    "import requests\n",
    "import os.path\n",
    "from gtts import gTTS"
   ]
  },
  {
   "cell_type": "code",
   "execution_count": 3,
   "metadata": {},
   "outputs": [],
   "source": [
    "words = [\n",
    "  \"porter\",\n",
    "  \"adjusted\",\n",
    "  \"orchard\",\n",
    "  \"guilty\",\n",
    "  \"startled\",\n",
    "  \"lumber\",\n",
    "  \"shambling\",]"
   ]
  },
  {
   "cell_type": "code",
   "execution_count": 5,
   "metadata": {},
   "outputs": [
    {
     "name": "stdout",
     "output_type": "stream",
     "text": [
      "porter\n",
      "Downloaded porter\n",
      "adjusted\n",
      "Downloaded adjusted\n",
      "orchard\n",
      "Downloaded orchard\n",
      "guilty\n",
      "Downloaded guilty\n",
      "startled\n",
      "Downloaded startled\n",
      "lumber\n",
      "Downloaded lumber\n",
      "shambling\n",
      "Downloaded shambling\n"
     ]
    }
   ],
   "source": [
    "for word in words:\n",
    "    download_audio(word)"
   ]
  },
  {
   "cell_type": "code",
   "execution_count": 4,
   "metadata": {},
   "outputs": [],
   "source": [
    "resp = requests.get('https://translate.google.com/translate_tts?ie=UTF-8&q=express&tl=en&total=1&idx=0&textlen=7&tk=757706.870544&client=webapp&prev=input')\n",
    "\n",
    "#ice%20rink"
   ]
  },
  {
   "cell_type": "code",
   "execution_count": 1,
   "metadata": {},
   "outputs": [],
   "source": [
    "def download_audio(word):\n",
    "    file_name = word.replace(' ', '_')\n",
    "    print(file_name)\n",
    "    if os.path.isfile(f'./public/audio/{file_name}.mp3'):\n",
    "        print(f'{file_name}.mp3 exis')\n",
    "        return\n",
    "    tts = gTTS(word)\n",
    "    tts.save(f'./audio/{file_name}.mp3')\n",
    "    print(f'Downloaded {word}')\n",
    "\n",
    "    "
   ]
  },
  {
   "cell_type": "code",
   "execution_count": 19,
   "metadata": {},
   "outputs": [
    {
     "name": "stdout",
     "output_type": "stream",
     "text": [
      "express\n",
      "express.mp3 exis\n"
     ]
    }
   ],
   "source": [
    "download_audio('express')"
   ]
  },
  {
   "cell_type": "code",
   "execution_count": 14,
   "metadata": {},
   "outputs": [
    {
     "data": {
      "text/plain": [
       "200"
      ]
     },
     "execution_count": 14,
     "metadata": {},
     "output_type": "execute_result"
    }
   ],
   "source": [
    "resp.status_code"
   ]
  }
 ],
 "metadata": {
  "kernelspec": {
   "display_name": "Python 3",
   "language": "python",
   "name": "python3"
  },
  "language_info": {
   "codemirror_mode": {
    "name": "ipython",
    "version": 3
   },
   "file_extension": ".py",
   "mimetype": "text/x-python",
   "name": "python",
   "nbconvert_exporter": "python",
   "pygments_lexer": "ipython3",
   "version": "3.7.3"
  }
 },
 "nbformat": 4,
 "nbformat_minor": 2
}
